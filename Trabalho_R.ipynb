{
  "nbformat": 4,
  "nbformat_minor": 0,
  "metadata": {
    "colab": {
      "provenance": []
    },
    "kernelspec": {
      "name": "python3",
      "display_name": "Python 3"
    },
    "language_info": {
      "name": "python"
    }
  },
  "cells": [
    {
      "cell_type": "code",
      "execution_count": null,
      "metadata": {
        "colab": {
          "base_uri": "https://localhost:8080/"
        },
        "id": "EnnnFbAQksp5",
        "outputId": "a2f74021-dc40-4665-c0ef-5dafcd2d5fe5"
      },
      "outputs": [
        {
          "output_type": "stream",
          "name": "stdout",
          "text": [
            "Looking in indexes: https://pypi.org/simple, https://us-python.pkg.dev/colab-wheels/public/simple/\n",
            "Requirement already satisfied: rdkit in /usr/local/lib/python3.10/dist-packages (2023.3.1)\n",
            "Requirement already satisfied: numpy in /usr/local/lib/python3.10/dist-packages (from rdkit) (1.22.4)\n",
            "Requirement already satisfied: Pillow in /usr/local/lib/python3.10/dist-packages (from rdkit) (8.4.0)\n"
          ]
        }
      ],
      "source": [
        "#Install RDKit\n",
        "!pip install rdkit"
      ]
    },
    {
      "cell_type": "code",
      "source": [
        "#Import pandas and Chem to use in various steps to follow\n",
        "from rdkit import Chem\n",
        "import pandas as pd"
      ],
      "metadata": {
        "id": "eQIvRPA0k88p"
      },
      "execution_count": null,
      "outputs": []
    },
    {
      "cell_type": "code",
      "source": [
        "#Importa PandaTool from Chem to convert SDF to CSV \n",
        "from rdkit.Chem import PandasTools\n",
        "\n",
        "\n",
        "my_sdf_file = '/content/drive/MyDrive/Trabalho_R/eye_desease_library.sdf'\n",
        "\n",
        "frame = PandasTools.LoadSDF(my_sdf_file,\n",
        "                            smilesName='SMILES',\n",
        "                            molColName='Molecule',\n",
        "                            includeFingerprints=False)\n",
        "\n",
        "frame.to_csv('/content/drive/MyDrive/Trabalho_R/eye_desease_library.csv')"
      ],
      "metadata": {
        "id": "csRLEzmVlObT"
      },
      "execution_count": null,
      "outputs": []
    }
  ]
}